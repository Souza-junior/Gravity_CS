{
 "cells": [
  {
   "cell_type": "code",
   "execution_count": 1,
   "metadata": {
    "id": "PFZUEqhlbLKT"
   },
   "outputs": [],
   "source": [
    "import numpy as np\n",
    "import matplotlib.pyplot as plt\n",
    "import xarray as xr\n",
    "import pandas as pd\n",
    "import verde as vd\n",
    "import harmonica as hm\n",
    "import boule as bl\n",
    "import ensaio\n",
    "import pygmt\n",
    "import pyproj\n",
    "\n",
    "# import utm\n",
    "import geopandas as gpd\n",
    "\n",
    "import pathlib\n",
    "import os\n",
    "\n",
    "import warnings\n",
    "warnings.filterwarnings(\"ignore\")"
   ]
  },
  {
   "cell_type": "markdown",
   "metadata": {
    "id": "aQgjXGj6elhc"
   },
   "source": [
    "# Load gravity data table"
   ]
  },
  {
   "cell_type": "code",
   "execution_count": 2,
   "metadata": {
    "id": "6jQ6T40Qc0w7"
   },
   "outputs": [],
   "source": [
    "data_dir = pathlib.Path(\"..\") / \"data\"\n",
    "image_dir = pathlib.Path(\"..\") / \"report\" / \"figures\"\n",
    "shape_dir = pathlib.Path(\"..\") / \"data\" / \"shapefile\"\n",
    "\n",
    "mpl_rc = {\"text.usetex\": True, \"font.family\": \"serif\", \"font.size\": 9}"
   ]
  },
  {
   "cell_type": "markdown",
   "metadata": {},
   "source": [
    "Read shapefile"
   ]
  },
  {
   "cell_type": "code",
   "execution_count": 3,
   "metadata": {},
   "outputs": [],
   "source": [
    "pluton = os.path.join(shape_dir/\"corrego_seco.shp\")"
   ]
  },
  {
   "cell_type": "code",
   "execution_count": 4,
   "metadata": {
    "colab": {
     "base_uri": "https://localhost:8080/",
     "height": 424
    },
    "id": "39HfqwPyc6oI",
    "outputId": "9f6f27f5-4fa4-4c68-ba60-b49e9926a2cb"
   },
   "outputs": [
    {
     "data": {
      "text/plain": [
       "60"
      ]
     },
     "execution_count": 4,
     "metadata": {},
     "output_type": "execute_result"
    }
   ],
   "source": [
    "# Dados Regionais BNDG\n",
    "df_regional = pd.read_csv(data_dir/'regional.csv', delimiter=',')\n",
    "\n",
    "df_regional.rename(columns={'GOBS': 'Gravity'}, inplace=True)\n",
    "df_regional.rename(columns={'LATITUDE': 'Latitude'}, inplace=True)\n",
    "df_regional.rename(columns={'LONGITUDE': 'Longitude'}, inplace=True)\n",
    "df_regional.rename(columns={'ALT_ORT': 'Elevation'}, inplace=True)\n",
    "df_regional.rename(columns={'Line': 'Station'}, inplace=True)\n",
    "\n",
    "colunas_especificas = ['Latitude', 'Longitude', 'Gravity', 'Elevation', 'Station']\n",
    "df_regional = df_regional[colunas_especificas]\n",
    "\n",
    "# Dados Locais\n",
    "df_local = pd.read_csv(data_dir/'CSG.csv', delimiter=',')\n",
    "df_local = df_local[colunas_especificas]\n",
    "\n",
    "data = pd.concat([df_regional, df_local], ignore_index=True)\n",
    "\n",
    "data = df_local\n",
    "\n",
    "len(data['Latitude'])"
   ]
  },
  {
   "cell_type": "code",
   "execution_count": 5,
   "metadata": {},
   "outputs": [],
   "source": [
    "valores_a_remover = ['csg5_001', 'csg5_003', 'csg2_005', 'csg9_001']\n",
    "data = data[~data['Station'].isin(valores_a_remover)]"
   ]
  },
  {
   "cell_type": "code",
   "execution_count": 6,
   "metadata": {
    "id": "WHqq2Y5TdvRy"
   },
   "outputs": [
    {
     "data": {
      "text/plain": [
       "0"
      ]
     },
     "execution_count": 6,
     "metadata": {},
     "output_type": "execute_result"
    }
   ],
   "source": [
    "# West, East, South, North (degrees)\n",
    "lat_max = np.max(data.Latitude)\n",
    "lat_min = np.min(data.Latitude)\n",
    "lon_max = np.max(data.Longitude)\n",
    "lon_min = np.min(data.Longitude)\n",
    "region = (lon_min, lon_max, lat_min, lat_max)\n",
    "# Pad the region for slicing the grids\n",
    "region_pad = vd.pad_region(region, pad=-0.15)\n",
    "\n",
    "data = data[\n",
    "    (data['Longitude'] >= region_pad[0]) & (data['Longitude'] <= region_pad[1]) &\n",
    "    (data['Latitude'] >= region_pad[2]) & (data['Latitude'] <= region_pad[3])\n",
    "]\n",
    "len(data['Longitude'])"
   ]
  },
  {
   "cell_type": "code",
   "execution_count": 7,
   "metadata": {},
   "outputs": [
    {
     "name": "stderr",
     "output_type": "stream",
     "text": [
      "pygmt-session [WARNING]: gmt_get_dataset_tiles: No earth_relief_01s_g tiles available for your region.\n",
      "grdcut [ERROR]: Option -R parsing failure. Correct syntax:\n",
      "\n",
      "-R<west>/<east>/<south>/<north>[+r]\n",
      "Specify the min/max coordinates of your data region in user units. Use dd:mm[:ss] for regions given in arc degrees, minutes [and seconds]. Use -R<xmin>/<xmax>/<ymin>/<ymax>[+u<unit>] for regions given in projected coordinates, with <unit> selected from e|f|k|M|n|u [Default: e]. If +u is set, projected regions centered on (0,0) may be set via -R<halfwidth>[/<halfheight>]+u<unit>, where <halfheight> defaults to <halfwidth> if not given. Use [yyyy[-mm[-dd]]]T[hh[:mm[:ss[.xxx]]]] format for time axes. Append +r if -R specifies the coordinates of the lower left and upper right corners of a rectangular area.\n",
      "Use -Re and -Ra to set exact or approximate regions based on your input data (if applicable). Use -R<gridfile> to use its limits (and increments if applicable). Use -Rg and -Rd as shorthand for -R0/360/-90/90 and -R-180/180/-90/90. Derive region from closed polygons from the Digital Chart of the World (DCW): Append a comma-separated list of ISO 3166 codes for countries to set region, i.e., <code1>,<code2>,... etc., using the 2-character ISO country codes (see pscoast -E+l for list). To select a state of a country (if available), append .state, e.g, US.TX for Texas. To select a whole continent, give the full name as <code> (e.g, -RAfrica). To select a DCW collection, give collection tag as <code> (see pscoast -E+n for list). Use +r to modify the region from polygon(s): Append <inc>, <xinc>/<yinc>, or <winc>/<einc>/<sinc>/<ninc> to round region to these multiples; use +R to extend region by those increments instead, or use +e which is like +r but makes sure the region extends at least by 0.25 x <inc>.\n",
      "Alternatively, use -R<code><x0>/<y0>/<n_columns>/<n_rows> for origin and grid dimensions, where <code> is a 2-char combo from [T|M|B][L|C|R] (top/middle/bottom/left/center/right) and grid spacing must be specified via -I<dx>[/<dy>] (also see -r).\n",
      "grdcut [ERROR]: Offending option -R-49.874960066533305/-50.1060379748049/-16.3014818782561/-16.521120414255797\n"
     ]
    },
    {
     "ename": "GMTCLibError",
     "evalue": "Module 'grdcut' failed with status code 72:\ngrdcut [ERROR]: Option -R parsing failure. Correct syntax:\ngrdcut [ERROR]: Offending option -R-49.874960066533305/-50.1060379748049/-16.3014818782561/-16.521120414255797",
     "output_type": "error",
     "traceback": [
      "\u001b[0;31m---------------------------------------------------------------------------\u001b[0m",
      "\u001b[0;31mGMTCLibError\u001b[0m                              Traceback (most recent call last)",
      "Cell \u001b[0;32mIn[7], line 1\u001b[0m\n\u001b[0;32m----> 1\u001b[0m topography \u001b[38;5;241m=\u001b[39m \u001b[43mpygmt\u001b[49m\u001b[38;5;241;43m.\u001b[39;49m\u001b[43mdatasets\u001b[49m\u001b[38;5;241;43m.\u001b[39;49m\u001b[43mload_earth_relief\u001b[49m\u001b[43m(\u001b[49m\u001b[43mresolution\u001b[49m\u001b[38;5;241;43m=\u001b[39;49m\u001b[38;5;124;43m\"\u001b[39;49m\u001b[38;5;124;43m01s\u001b[39;49m\u001b[38;5;124;43m\"\u001b[39;49m\u001b[43m,\u001b[49m\u001b[43m \u001b[49m\u001b[43mregion\u001b[49m\u001b[38;5;241;43m=\u001b[39;49m\u001b[43mregion_pad\u001b[49m\u001b[43m)\u001b[49m\n\u001b[1;32m      2\u001b[0m topography \u001b[38;5;241m=\u001b[39m topography\u001b[38;5;241m.\u001b[39mrename({\u001b[38;5;124m'\u001b[39m\u001b[38;5;124mlon\u001b[39m\u001b[38;5;124m'\u001b[39m: \u001b[38;5;124m'\u001b[39m\u001b[38;5;124mlongitude\u001b[39m\u001b[38;5;124m'\u001b[39m, \u001b[38;5;124m'\u001b[39m\u001b[38;5;124mlat\u001b[39m\u001b[38;5;124m'\u001b[39m: \u001b[38;5;124m'\u001b[39m\u001b[38;5;124mlatitude\u001b[39m\u001b[38;5;124m'\u001b[39m})\n\u001b[1;32m      3\u001b[0m topography\n",
      "File \u001b[0;32m~/anaconda3/envs/fatiando/lib/python3.10/site-packages/pygmt/helpers/decorators.py:776\u001b[0m, in \u001b[0;36mkwargs_to_strings.<locals>.converter.<locals>.new_module\u001b[0;34m(*args, **kwargs)\u001b[0m\n\u001b[1;32m    773\u001b[0m             bound\u001b[38;5;241m.\u001b[39marguments[\u001b[38;5;124m\"\u001b[39m\u001b[38;5;124mkwargs\u001b[39m\u001b[38;5;124m\"\u001b[39m][arg] \u001b[38;5;241m=\u001b[39m newvalue\n\u001b[1;32m    775\u001b[0m \u001b[38;5;66;03m# Execute the original function and return its output\u001b[39;00m\n\u001b[0;32m--> 776\u001b[0m \u001b[38;5;28;01mreturn\u001b[39;00m \u001b[43mmodule_func\u001b[49m\u001b[43m(\u001b[49m\u001b[38;5;241;43m*\u001b[39;49m\u001b[43mbound\u001b[49m\u001b[38;5;241;43m.\u001b[39;49m\u001b[43margs\u001b[49m\u001b[43m,\u001b[49m\u001b[43m \u001b[49m\u001b[38;5;241;43m*\u001b[39;49m\u001b[38;5;241;43m*\u001b[39;49m\u001b[43mbound\u001b[49m\u001b[38;5;241;43m.\u001b[39;49m\u001b[43mkwargs\u001b[49m\u001b[43m)\u001b[49m\n",
      "File \u001b[0;32m~/anaconda3/envs/fatiando/lib/python3.10/site-packages/pygmt/datasets/earth_relief.py:164\u001b[0m, in \u001b[0;36mload_earth_relief\u001b[0;34m(resolution, region, registration, data_source, use_srtm)\u001b[0m\n\u001b[1;32m    161\u001b[0m \u001b[38;5;28;01melse\u001b[39;00m:\n\u001b[1;32m    162\u001b[0m     dataset_prefix \u001b[38;5;241m=\u001b[39m earth_relief_sources[data_source]\n\u001b[0;32m--> 164\u001b[0m grid \u001b[38;5;241m=\u001b[39m \u001b[43m_load_remote_dataset\u001b[49m\u001b[43m(\u001b[49m\n\u001b[1;32m    165\u001b[0m \u001b[43m    \u001b[49m\u001b[43mdataset_name\u001b[49m\u001b[38;5;241;43m=\u001b[39;49m\u001b[38;5;124;43m\"\u001b[39;49m\u001b[38;5;124;43mearth_relief\u001b[39;49m\u001b[38;5;124;43m\"\u001b[39;49m\u001b[43m,\u001b[49m\n\u001b[1;32m    166\u001b[0m \u001b[43m    \u001b[49m\u001b[43mdataset_prefix\u001b[49m\u001b[38;5;241;43m=\u001b[39;49m\u001b[43mdataset_prefix\u001b[49m\u001b[43m,\u001b[49m\n\u001b[1;32m    167\u001b[0m \u001b[43m    \u001b[49m\u001b[43mresolution\u001b[49m\u001b[38;5;241;43m=\u001b[39;49m\u001b[43mresolution\u001b[49m\u001b[43m,\u001b[49m\n\u001b[1;32m    168\u001b[0m \u001b[43m    \u001b[49m\u001b[43mregion\u001b[49m\u001b[38;5;241;43m=\u001b[39;49m\u001b[43mregion\u001b[49m\u001b[43m,\u001b[49m\n\u001b[1;32m    169\u001b[0m \u001b[43m    \u001b[49m\u001b[43mregistration\u001b[49m\u001b[38;5;241;43m=\u001b[39;49m\u001b[43mregistration\u001b[49m\u001b[43m,\u001b[49m\n\u001b[1;32m    170\u001b[0m \u001b[43m\u001b[49m\u001b[43m)\u001b[49m\n\u001b[1;32m    171\u001b[0m \u001b[38;5;28;01mreturn\u001b[39;00m grid\n",
      "File \u001b[0;32m~/anaconda3/envs/fatiando/lib/python3.10/site-packages/pygmt/helpers/decorators.py:776\u001b[0m, in \u001b[0;36mkwargs_to_strings.<locals>.converter.<locals>.new_module\u001b[0;34m(*args, **kwargs)\u001b[0m\n\u001b[1;32m    773\u001b[0m             bound\u001b[38;5;241m.\u001b[39marguments[\u001b[38;5;124m\"\u001b[39m\u001b[38;5;124mkwargs\u001b[39m\u001b[38;5;124m\"\u001b[39m][arg] \u001b[38;5;241m=\u001b[39m newvalue\n\u001b[1;32m    775\u001b[0m \u001b[38;5;66;03m# Execute the original function and return its output\u001b[39;00m\n\u001b[0;32m--> 776\u001b[0m \u001b[38;5;28;01mreturn\u001b[39;00m \u001b[43mmodule_func\u001b[49m\u001b[43m(\u001b[49m\u001b[38;5;241;43m*\u001b[39;49m\u001b[43mbound\u001b[49m\u001b[38;5;241;43m.\u001b[39;49m\u001b[43margs\u001b[49m\u001b[43m,\u001b[49m\u001b[43m \u001b[49m\u001b[38;5;241;43m*\u001b[39;49m\u001b[38;5;241;43m*\u001b[39;49m\u001b[43mbound\u001b[49m\u001b[38;5;241;43m.\u001b[39;49m\u001b[43mkwargs\u001b[49m\u001b[43m)\u001b[49m\n",
      "File \u001b[0;32m~/anaconda3/envs/fatiando/lib/python3.10/site-packages/pygmt/datasets/load_remote_dataset.py:419\u001b[0m, in \u001b[0;36m_load_remote_dataset\u001b[0;34m(dataset_name, dataset_prefix, resolution, region, registration)\u001b[0m\n\u001b[1;32m    417\u001b[0m     grid \u001b[38;5;241m=\u001b[39m load_dataarray(fname, engine\u001b[38;5;241m=\u001b[39m\u001b[38;5;124m\"\u001b[39m\u001b[38;5;124mnetcdf4\u001b[39m\u001b[38;5;124m\"\u001b[39m)\n\u001b[1;32m    418\u001b[0m \u001b[38;5;28;01melse\u001b[39;00m:\n\u001b[0;32m--> 419\u001b[0m     grid \u001b[38;5;241m=\u001b[39m \u001b[43mgrdcut\u001b[49m\u001b[43m(\u001b[49m\u001b[38;5;124;43mf\u001b[39;49m\u001b[38;5;124;43m\"\u001b[39;49m\u001b[38;5;124;43m@\u001b[39;49m\u001b[38;5;132;43;01m{\u001b[39;49;00m\u001b[43mdataset_prefix\u001b[49m\u001b[38;5;132;43;01m}\u001b[39;49;00m\u001b[38;5;132;43;01m{\u001b[39;49;00m\u001b[43mresolution\u001b[49m\u001b[38;5;132;43;01m}\u001b[39;49;00m\u001b[38;5;132;43;01m{\u001b[39;49;00m\u001b[43mreg\u001b[49m\u001b[38;5;132;43;01m}\u001b[39;49;00m\u001b[38;5;124;43m\"\u001b[39;49m\u001b[43m,\u001b[49m\u001b[43m \u001b[49m\u001b[43mregion\u001b[49m\u001b[38;5;241;43m=\u001b[39;49m\u001b[43mregion\u001b[49m\u001b[43m)\u001b[49m\n\u001b[1;32m    421\u001b[0m \u001b[38;5;66;03m# Add some metadata to the grid\u001b[39;00m\n\u001b[1;32m    422\u001b[0m grid\u001b[38;5;241m.\u001b[39mname \u001b[38;5;241m=\u001b[39m dataset\u001b[38;5;241m.\u001b[39mname\n",
      "File \u001b[0;32m~/anaconda3/envs/fatiando/lib/python3.10/site-packages/pygmt/helpers/decorators.py:603\u001b[0m, in \u001b[0;36muse_alias.<locals>.alias_decorator.<locals>.new_module\u001b[0;34m(*args, **kwargs)\u001b[0m\n\u001b[1;32m    596\u001b[0m     msg \u001b[38;5;241m=\u001b[39m (\n\u001b[1;32m    597\u001b[0m         \u001b[38;5;124m\"\u001b[39m\u001b[38;5;124mParameters \u001b[39m\u001b[38;5;124m'\u001b[39m\u001b[38;5;124mY\u001b[39m\u001b[38;5;124m'\u001b[39m\u001b[38;5;124m and \u001b[39m\u001b[38;5;124m'\u001b[39m\u001b[38;5;124myshift\u001b[39m\u001b[38;5;124m'\u001b[39m\u001b[38;5;124m are deprecated since v0.8.0. \u001b[39m\u001b[38;5;124m\"\u001b[39m\n\u001b[1;32m    598\u001b[0m         \u001b[38;5;124m\"\u001b[39m\u001b[38;5;124mand will be removed in v0.12.0. \u001b[39m\u001b[38;5;124m\"\u001b[39m\n\u001b[1;32m    599\u001b[0m         \u001b[38;5;124m\"\u001b[39m\u001b[38;5;124mUse Figure.shift_origin(yshift=...) instead.\u001b[39m\u001b[38;5;124m\"\u001b[39m\n\u001b[1;32m    600\u001b[0m     )\n\u001b[1;32m    601\u001b[0m     warnings\u001b[38;5;241m.\u001b[39mwarn(msg, category\u001b[38;5;241m=\u001b[39m\u001b[38;5;167;01mSyntaxWarning\u001b[39;00m, stacklevel\u001b[38;5;241m=\u001b[39m\u001b[38;5;241m2\u001b[39m)\n\u001b[0;32m--> 603\u001b[0m \u001b[38;5;28;01mreturn\u001b[39;00m \u001b[43mmodule_func\u001b[49m\u001b[43m(\u001b[49m\u001b[38;5;241;43m*\u001b[39;49m\u001b[43margs\u001b[49m\u001b[43m,\u001b[49m\u001b[43m \u001b[49m\u001b[38;5;241;43m*\u001b[39;49m\u001b[38;5;241;43m*\u001b[39;49m\u001b[43mkwargs\u001b[49m\u001b[43m)\u001b[49m\n",
      "File \u001b[0;32m~/anaconda3/envs/fatiando/lib/python3.10/site-packages/pygmt/helpers/decorators.py:776\u001b[0m, in \u001b[0;36mkwargs_to_strings.<locals>.converter.<locals>.new_module\u001b[0;34m(*args, **kwargs)\u001b[0m\n\u001b[1;32m    773\u001b[0m             bound\u001b[38;5;241m.\u001b[39marguments[\u001b[38;5;124m\"\u001b[39m\u001b[38;5;124mkwargs\u001b[39m\u001b[38;5;124m\"\u001b[39m][arg] \u001b[38;5;241m=\u001b[39m newvalue\n\u001b[1;32m    775\u001b[0m \u001b[38;5;66;03m# Execute the original function and return its output\u001b[39;00m\n\u001b[0;32m--> 776\u001b[0m \u001b[38;5;28;01mreturn\u001b[39;00m \u001b[43mmodule_func\u001b[49m\u001b[43m(\u001b[49m\u001b[38;5;241;43m*\u001b[39;49m\u001b[43mbound\u001b[49m\u001b[38;5;241;43m.\u001b[39;49m\u001b[43margs\u001b[49m\u001b[43m,\u001b[49m\u001b[43m \u001b[49m\u001b[38;5;241;43m*\u001b[39;49m\u001b[38;5;241;43m*\u001b[39;49m\u001b[43mbound\u001b[49m\u001b[38;5;241;43m.\u001b[39;49m\u001b[43mkwargs\u001b[49m\u001b[43m)\u001b[49m\n",
      "File \u001b[0;32m~/anaconda3/envs/fatiando/lib/python3.10/site-packages/pygmt/src/grdcut.py:108\u001b[0m, in \u001b[0;36mgrdcut\u001b[0;34m(grid, **kwargs)\u001b[0m\n\u001b[1;32m    106\u001b[0m         \u001b[38;5;28;01mif\u001b[39;00m (outgrid \u001b[38;5;241m:=\u001b[39m kwargs\u001b[38;5;241m.\u001b[39mget(\u001b[38;5;124m\"\u001b[39m\u001b[38;5;124mG\u001b[39m\u001b[38;5;124m\"\u001b[39m)) \u001b[38;5;129;01mis\u001b[39;00m \u001b[38;5;28;01mNone\u001b[39;00m:\n\u001b[1;32m    107\u001b[0m             kwargs[\u001b[38;5;124m\"\u001b[39m\u001b[38;5;124mG\u001b[39m\u001b[38;5;124m\"\u001b[39m] \u001b[38;5;241m=\u001b[39m outgrid \u001b[38;5;241m=\u001b[39m tmpfile\u001b[38;5;241m.\u001b[39mname  \u001b[38;5;66;03m# output to tmpfile\u001b[39;00m\n\u001b[0;32m--> 108\u001b[0m         \u001b[43mlib\u001b[49m\u001b[38;5;241;43m.\u001b[39;49m\u001b[43mcall_module\u001b[49m\u001b[43m(\u001b[49m\n\u001b[1;32m    109\u001b[0m \u001b[43m            \u001b[49m\u001b[43mmodule\u001b[49m\u001b[38;5;241;43m=\u001b[39;49m\u001b[38;5;124;43m\"\u001b[39;49m\u001b[38;5;124;43mgrdcut\u001b[39;49m\u001b[38;5;124;43m\"\u001b[39;49m\u001b[43m,\u001b[49m\u001b[43m \u001b[49m\u001b[43margs\u001b[49m\u001b[38;5;241;43m=\u001b[39;49m\u001b[43mbuild_arg_string\u001b[49m\u001b[43m(\u001b[49m\u001b[43mkwargs\u001b[49m\u001b[43m,\u001b[49m\u001b[43m \u001b[49m\u001b[43minfile\u001b[49m\u001b[38;5;241;43m=\u001b[39;49m\u001b[43minfile\u001b[49m\u001b[43m)\u001b[49m\n\u001b[1;32m    110\u001b[0m \u001b[43m        \u001b[49m\u001b[43m)\u001b[49m\n\u001b[1;32m    112\u001b[0m \u001b[38;5;28;01mreturn\u001b[39;00m load_dataarray(outgrid) \u001b[38;5;28;01mif\u001b[39;00m outgrid \u001b[38;5;241m==\u001b[39m tmpfile\u001b[38;5;241m.\u001b[39mname \u001b[38;5;28;01melse\u001b[39;00m \u001b[38;5;28;01mNone\u001b[39;00m\n",
      "File \u001b[0;32m~/anaconda3/envs/fatiando/lib/python3.10/site-packages/pygmt/clib/session.py:624\u001b[0m, in \u001b[0;36mSession.call_module\u001b[0;34m(self, module, args)\u001b[0m\n\u001b[1;32m    620\u001b[0m status \u001b[38;5;241m=\u001b[39m c_call_module(\n\u001b[1;32m    621\u001b[0m     \u001b[38;5;28mself\u001b[39m\u001b[38;5;241m.\u001b[39msession_pointer, module\u001b[38;5;241m.\u001b[39mencode(), mode, args\u001b[38;5;241m.\u001b[39mencode()\n\u001b[1;32m    622\u001b[0m )\n\u001b[1;32m    623\u001b[0m \u001b[38;5;28;01mif\u001b[39;00m status \u001b[38;5;241m!=\u001b[39m \u001b[38;5;241m0\u001b[39m:\n\u001b[0;32m--> 624\u001b[0m     \u001b[38;5;28;01mraise\u001b[39;00m GMTCLibError(\n\u001b[1;32m    625\u001b[0m         \u001b[38;5;124mf\u001b[39m\u001b[38;5;124m\"\u001b[39m\u001b[38;5;124mModule \u001b[39m\u001b[38;5;124m'\u001b[39m\u001b[38;5;132;01m{\u001b[39;00mmodule\u001b[38;5;132;01m}\u001b[39;00m\u001b[38;5;124m'\u001b[39m\u001b[38;5;124m failed with status code \u001b[39m\u001b[38;5;132;01m{\u001b[39;00mstatus\u001b[38;5;132;01m}\u001b[39;00m\u001b[38;5;124m:\u001b[39m\u001b[38;5;130;01m\\n\u001b[39;00m\u001b[38;5;132;01m{\u001b[39;00m\u001b[38;5;28mself\u001b[39m\u001b[38;5;241m.\u001b[39m_error_message\u001b[38;5;132;01m}\u001b[39;00m\u001b[38;5;124m\"\u001b[39m\n\u001b[1;32m    626\u001b[0m     )\n",
      "\u001b[0;31mGMTCLibError\u001b[0m: Module 'grdcut' failed with status code 72:\ngrdcut [ERROR]: Option -R parsing failure. Correct syntax:\ngrdcut [ERROR]: Offending option -R-49.874960066533305/-50.1060379748049/-16.3014818782561/-16.521120414255797"
     ]
    }
   ],
   "source": [
    "topography = pygmt.datasets.load_earth_relief(resolution=\"01s\", region=region_pad)\n",
    "topography = topography.rename({'lon': 'longitude', 'lat': 'latitude'})\n",
    "topography"
   ]
  },
  {
   "cell_type": "code",
   "execution_count": null,
   "metadata": {
    "colab": {
     "base_uri": "https://localhost:8080/",
     "height": 751
    },
    "id": "IqxfmQvSeAp6",
    "outputId": "a87a928c-3622-4e04-e556-0300f753e295"
   },
   "outputs": [],
   "source": [
    "topography = topography.sel(longitude=slice(*region_pad[:2]), latitude=slice(*region_pad[2:]))\n",
    "# topography = topography.sel(lon=slice(*region_pad[:2]), lat=slice(*region_pad[2:]))\n",
    "topography"
   ]
  },
  {
   "cell_type": "code",
   "execution_count": null,
   "metadata": {},
   "outputs": [],
   "source": [
    "geoid = pygmt.datasets.load_earth_geoid(resolution=\"01m\", region=region_pad, registration=\"gridline\")\n",
    "geoid = geoid.rename({'lon': 'longitude', 'lat': 'latitude'})\n",
    "\n",
    "geoid = geoid.sel(longitude=slice(*region_pad[:2]), latitude=slice(*region_pad[2:]))\n",
    "interpolator = vd.KNeighbors()\n",
    "\n",
    "geoid_table = vd.grid_to_table(geoid)\n",
    "geoid_1 = vd.grid_to_table(topography)\n",
    "\n",
    "\n",
    "interpolator.fit((geoid_table.longitude, geoid_table.latitude), geoid_table.earth_geoid)\n",
    "geoid_1 = geoid_1.assign(elevation=interpolator.predict((geoid_1.longitude, geoid_1.latitude)))\n",
    "\n",
    "geoid_values = np.reshape(geoid_1.elevation, topography.shape)\n",
    "geoid = xr.DataArray(geoid_values, coords=[topography.latitude, topography.longitude], dims=['latitude', 'longitude'])\n",
    "geoid"
   ]
  },
  {
   "cell_type": "code",
   "execution_count": null,
   "metadata": {
    "colab": {
     "base_uri": "https://localhost:8080/",
     "height": 491
    },
    "id": "CKOUurxfeDTt",
    "outputId": "dd8f909c-53bf-4f61-9051-be99b9c76833"
   },
   "outputs": [],
   "source": [
    "fig = pygmt.Figure()\n",
    "pygmt.makecpt(cmap=\"viridis\", series=[data.Gravity.min(), data.Gravity.max()])\n",
    "fig.plot(\n",
    "    x=df_regional.Longitude,\n",
    "    y=df_regional.Latitude,\n",
    "    color=df_regional.Gravity,\n",
    "    cmap=True,\n",
    "    style=\"t0.2c\",\n",
    "    projection=\"M15c\",\n",
    "    frame=\"afg\",\n",
    ")\n",
    "\n",
    "fig.plot(\n",
    "    x=df_local.Longitude,\n",
    "    y=df_local.Latitude,\n",
    "    color=df_local.Gravity,\n",
    "    cmap=True,\n",
    "    style=\"t6p\",\n",
    "    projection=\"M15c\",\n",
    "    frame=\"afg\",\n",
    ")\n",
    "fig.colorbar(frame='af+l\"observed gravity [mGal]\"')\n",
    "\n",
    "fig.show(width=600)"
   ]
  },
  {
   "cell_type": "code",
   "execution_count": null,
   "metadata": {
    "colab": {
     "base_uri": "https://localhost:8080/",
     "height": 652
    },
    "id": "naH6pNCheI5t",
    "outputId": "ed76697b-9859-4023-8698-2221c670dbd6"
   },
   "outputs": [],
   "source": [
    "fig = pygmt.Figure()\n",
    "fig.grdimage(topography, projection=\"M15c\", cmap=\"etopo1\", frame=True)\n",
    "fig.colorbar(frame='af+l\"topography [m]\"')\n",
    "fig.coast(shorelines=\"white\", area_thresh=1e6)\n",
    "fig.plot(\n",
    "    x=data.Longitude,\n",
    "    y=data.Latitude,\n",
    "    style=\"c0.08c\",\n",
    "    color=\"black\",\n",
    ")\n",
    "fig.plot(data=pluton, projection='M')\n",
    "fig.show(width=600)"
   ]
  },
  {
   "cell_type": "code",
   "execution_count": null,
   "metadata": {},
   "outputs": [],
   "source": [
    "fig = pygmt.Figure()\n",
    "fig.grdimage(geoid, projection=\"M15c\", cmap=\"etopo1\", frame=True)\n",
    "fig.colorbar(frame='af+l\"geoid [m]\"')\n",
    "fig.coast(shorelines=\"white\", area_thresh=1e6)\n",
    "fig.plot(\n",
    "    x=data.Longitude,\n",
    "    y=data.Latitude,\n",
    "    style=\"c0.08c\",\n",
    "    color=\"black\",\n",
    ")\n",
    "fig.plot(data=pluton, projection='M')\n",
    "fig.basemap(map_scale=\"n0.9/0.06+w5k+u\")\n",
    "fig.show(width=600)"
   ]
  },
  {
   "cell_type": "markdown",
   "metadata": {
    "id": "IrI9RwRdeqaG"
   },
   "source": [
    "## Converte altitudes ortométricas para geométricas"
   ]
  },
  {
   "cell_type": "code",
   "execution_count": null,
   "metadata": {
    "colab": {
     "base_uri": "https://localhost:8080/",
     "height": 698
    },
    "id": "qa18B9vAefZz",
    "outputId": "1f6432fd-f947-4411-d8ac-3fff4929a42b"
   },
   "outputs": [],
   "source": [
    "topography_geometric = topography + geoid\n",
    "topography_geometric"
   ]
  },
  {
   "cell_type": "code",
   "execution_count": null,
   "metadata": {},
   "outputs": [],
   "source": [
    "fig = pygmt.Figure()\n",
    "fig.grdimage(topography_geometric, projection=\"M15c\", cmap=\"etopo1\", frame=True)\n",
    "fig.colorbar(frame='af+l\"geometric topography [m]\"')\n",
    "fig.coast(shorelines=\"white\", area_thresh=1e6)\n",
    "fig.plot(\n",
    "    x=data.Longitude,\n",
    "    y=data.Latitude,\n",
    "    style=\"c0.08c\",\n",
    "    color=\"black\",\n",
    "    label='Obs. points'\n",
    ")\n",
    "fig.legend()\n",
    "fig.plot(data=pluton, projection='M')\n",
    "fig.show(width=600)"
   ]
  },
  {
   "cell_type": "code",
   "execution_count": null,
   "metadata": {},
   "outputs": [],
   "source": [
    "with plt.rc_context(mpl_rc):\n",
    "    fig = pygmt.Figure()\n",
    "    # pygmt.config(FORMAT_GEO_MAP=\"ddd.xx\")\n",
    "    with fig.subplot(\n",
    "        nrows=1, ncols=3, figsize=(\"32c\", \"10c\"), autolabel=True, margins=\"-0.05c\"\n",
    "    ):\n",
    "        with fig.set_panel(panel=0):\n",
    "            \n",
    "            fig.grdimage(topography, projection=\"X\", cmap=\"etopo1\", frame=[\"WSne\", \"xaf\", \"yaf\"],\n",
    "                        shading=\"+a45+nt0.15\")# frame=[\"WSne\", \"xafg+lx-axis\", \"yafg+ly-axis\"])\n",
    "            fig.colorbar(frame='af+l\"orthometric topography [m]\"')\n",
    "            fig.plot(\n",
    "                        x=data.Longitude,\n",
    "                        y=data.Latitude,\n",
    "                        style=\"c0.08c\",\n",
    "                        color=\"black\",\n",
    "                        label='observed points'\n",
    "                    )\n",
    "            fig.plot(data=pluton, projection='M')\n",
    "            fig.legend()\n",
    "            # fig.basemap(map_scale=\"n0.9/0.06+w5k+u\")\n",
    "    \n",
    "    \n",
    "        with fig.set_panel(panel=1):\n",
    "            fig.grdimage(geoid, projection=\"X\", cmap=\"polar+h\", frame=[\"WSne\", \"xaf\", \"f\"])\n",
    "            fig.colorbar(frame='af+l\"geoid height [m]\"')\n",
    "            fig.plot(\n",
    "                        x=data.Longitude,\n",
    "                        y=data.Latitude,\n",
    "                        style=\"c0.08c\",\n",
    "                        color=\"black\",\n",
    "                    )\n",
    "            fig.plot(data=pluton, projection='M')\n",
    "            # fig.basemap(map_scale=\"n0.9/0.06+w5k+u\")\n",
    "        with fig.set_panel(panel=2):\n",
    "            fig.grdimage(topography_geometric, projection=\"X\", cmap=\"etopo1\", frame=[\"WSne\", \"xaf\", \"f\"],\n",
    "                        shading=\"+a45+nt0.15\")\n",
    "            fig.colorbar(frame='af+l\"geometric topography [m]\"')\n",
    "            fig.plot(\n",
    "                        x=data.Longitude,\n",
    "                        y=data.Latitude,\n",
    "                        style=\"c0.08c\",\n",
    "                        color=\"black\",\n",
    "                    )\n",
    "            fig.plot(data=pluton, projection='M')\n",
    "\n",
    "fig.savefig(image_dir / 'heights.png', dpi=300)\n",
    "fig.show()\n"
   ]
  },
  {
   "cell_type": "code",
   "execution_count": null,
   "metadata": {
    "colab": {
     "base_uri": "https://localhost:8080/",
     "height": 424
    },
    "id": "4n45-pC7eiIr",
    "outputId": "e3c74883-2519-4e7e-ae55-c30681b223c3"
   },
   "outputs": [],
   "source": [
    "geoid_table = vd.grid_to_table(geoid)\n",
    "interpolator = vd.KNeighbors()\n",
    "interpolator.fit((geoid_table.longitude, geoid_table.latitude), geoid_table.scalars)\n",
    "data = data.assign(geoid_m=interpolator.predict((data.Longitude, data.Latitude)))\n",
    "data = data.assign(height_geometric_m=data.Elevation + data.geoid_m)\n",
    "# data\n",
    "# geoid_table"
   ]
  },
  {
   "cell_type": "markdown",
   "metadata": {
    "id": "6Tl-oIBbfhRo"
   },
   "source": [
    "## Distúrbio da gravidade"
   ]
  },
  {
   "cell_type": "code",
   "execution_count": null,
   "metadata": {
    "colab": {
     "base_uri": "https://localhost:8080/",
     "height": 424
    },
    "id": "BY9bOuUWfQ47",
    "outputId": "926a026c-8515-494a-cad5-3fbe00dfffd1"
   },
   "outputs": [],
   "source": [
    "data = data.assign(\n",
    "    normal_gravity_mgal=bl.WGS84.normal_gravity(data.Latitude, data.height_geometric_m)\n",
    ")\n",
    "data = data.assign(gravity_disturbance_mgal=data.Gravity - data.normal_gravity_mgal)\n",
    "data.head()"
   ]
  },
  {
   "cell_type": "code",
   "execution_count": null,
   "metadata": {
    "colab": {
     "base_uri": "https://localhost:8080/",
     "height": 491
    },
    "id": "sb269fskfsyw",
    "outputId": "73ccd46a-f8e5-4225-8b3d-c0529cfc02bb"
   },
   "outputs": [],
   "source": [
    "fig = pygmt.Figure()\n",
    "maxabs = vd.maxabs(data.gravity_disturbance_mgal)\n",
    "pygmt.makecpt(cmap=\"polar+h\", series=[-maxabs, maxabs])\n",
    "fig.plot(\n",
    "    x=data.Longitude,\n",
    "    y=data.Latitude,\n",
    "    color=data.gravity_disturbance_mgal,\n",
    "    cmap=True,\n",
    "    style=\"c4p\",\n",
    "    projection=\"M15c\",\n",
    "    frame=\"af\",\n",
    ")\n",
    "fig.plot(data=pluton, projection='M')\n",
    "fig.colorbar(frame='af+l\"gravity disturbance [mGal]\"')\n",
    "fig.show(width=600)"
   ]
  },
  {
   "cell_type": "markdown",
   "metadata": {
    "id": "srbzpoU8f3Lt"
   },
   "source": [
    "image\n",
    "\n",
    "<!-- ## Correção topográfica -->\n",
    "\n",
    "<!-- ![](https://www.fatiando.org/tutorials/_images/topographic-correction.svg) -->"
   ]
  },
  {
   "cell_type": "code",
   "execution_count": null,
   "metadata": {
    "id": "UpUf2cLsfypW"
   },
   "outputs": [],
   "source": [
    "# projection = pyproj.Proj(proj=\"merc\", lat_ts=data.latitude.mean())\n",
    "projection = pyproj.Proj(proj='utm', ellps='WGS84', zone=22, south=True)"
   ]
  },
  {
   "cell_type": "code",
   "execution_count": null,
   "metadata": {
    "colab": {
     "base_uri": "https://localhost:8080/",
     "height": 424
    },
    "id": "cPQASstcvRju",
    "outputId": "b1063f75-0908-4bc6-f17d-6f2269758cfc"
   },
   "outputs": [],
   "source": [
    "easting, northing = projection(data.Longitude.values, data.Latitude.values)\n",
    "data = data.assign(easting_m=easting, northing_m=northing)\n",
    "data.head(5)"
   ]
  },
  {
   "cell_type": "code",
   "execution_count": null,
   "metadata": {
    "colab": {
     "base_uri": "https://localhost:8080/",
     "height": 962
    },
    "id": "ci6V6lsQwFmi",
    "outputId": "48643f1d-681c-4fed-b5da-567ba962d396"
   },
   "outputs": [],
   "source": [
    "topography_proj = vd.project_grid(topography_geometric, projection, method=\"nearest\")\n",
    "# topography_proj.plot()"
   ]
  },
  {
   "cell_type": "code",
   "execution_count": null,
   "metadata": {
    "colab": {
     "base_uri": "https://localhost:8080/",
     "height": 534
    },
    "id": "YQCzWgwuxZ4N",
    "outputId": "af5dae5f-8745-4ee6-de63-20415f308ea0"
   },
   "outputs": [],
   "source": [
    "topography_density = np.where(topography_proj > 0, 2670, 1040 - 2670)\n",
    "topography_model = hm.prism_layer(\n",
    "    coordinates=(topography_proj.easting, topography_proj.northing),\n",
    "    surface=topography_proj,\n",
    "    reference=0,\n",
    "    properties={\"density\": topography_density}\n",
    ")\n",
    "\n",
    "topography_model.top.plot()"
   ]
  },
  {
   "cell_type": "code",
   "execution_count": null,
   "metadata": {
    "colab": {
     "base_uri": "https://localhost:8080/",
     "height": 534
    },
    "id": "DdJpYw-DyIOK",
    "outputId": "f691df97-7929-4c75-8ce3-4ba2f29289db"
   },
   "outputs": [],
   "source": [
    "# fig = pygmt.Figure()\n",
    "# scale = vd.maxabs(topography_model.density)\n",
    "# pygmt.makecpt(cmap=\"roma+h\", reverse=True, series=[-scale, scale])\n",
    "# fig.grdimage(topography_model.density, projection=\"X15c/15c\", frame=True)\n",
    "# fig.colorbar(frame='af+l\"Density of the prism model [kg/m3]\"')\n",
    "# fig.show()\n",
    "\n",
    "topography_model.density.plot()"
   ]
  },
  {
   "cell_type": "code",
   "execution_count": null,
   "metadata": {
    "id": "DcCeqVaGy4nO"
   },
   "outputs": [],
   "source": [
    "coordinates = (data.easting_m, data.northing_m, data.height_geometric_m)\n",
    "terrain_effect = topography_model.prism_layer.gravity(coordinates, field=\"g_z\")"
   ]
  },
  {
   "cell_type": "code",
   "execution_count": null,
   "metadata": {
    "colab": {
     "base_uri": "https://localhost:8080/",
     "height": 424
    },
    "id": "6HKWDgXCzEai",
    "outputId": "038ec359-65e1-48af-c2f2-821eff778767"
   },
   "outputs": [],
   "source": [
    "data = data.assign(\n",
    "    gravity_bouguer_mgal=data.gravity_disturbance_mgal - terrain_effect\n",
    ")\n",
    "data.head()"
   ]
  },
  {
   "cell_type": "code",
   "execution_count": null,
   "metadata": {
    "colab": {
     "base_uri": "https://localhost:8080/",
     "height": 418
    },
    "id": "x2sJYAb90VmC",
    "outputId": "0a9e227f-0806-4830-b65c-c684f6b15766"
   },
   "outputs": [],
   "source": [
    "fig = pygmt.Figure()\n",
    "maxabs = vd.maxabs(data.gravity_bouguer_mgal)\n",
    "pygmt.makecpt(cmap=\"polar\", series=[-67, -40])\n",
    "fig.plot(\n",
    "    x=data.Longitude,\n",
    "    y=data.Latitude,\n",
    "    color=data.gravity_bouguer_mgal,\n",
    "    cmap=True,\n",
    "    style=\"c4p\",\n",
    "    projection=\"M15c\",\n",
    "    frame=True,\n",
    ")\n",
    "fig.colorbar(frame='af+l\"Bouguer disturbance [mGal]\"')\n",
    "fig.plot(data=pluton, projection='M')\n",
    "fig.show()"
   ]
  },
  {
   "cell_type": "markdown",
   "metadata": {
    "id": "RzViAb3A2K6w"
   },
   "source": [
    "## Separação regional residual"
   ]
  },
  {
   "cell_type": "code",
   "execution_count": null,
   "metadata": {
    "colab": {
     "base_uri": "https://localhost:8080/",
     "height": 479
    },
    "id": "HbLA3coo2Fsy",
    "outputId": "dc32ed79-37c9-4e75-8967-a22af67227f0"
   },
   "outputs": [],
   "source": [
    "regional = vd.Trend(degree=1).fit(coordinates, data.gravity_bouguer_mgal)\n",
    "# regional = hm.upward_continuation()\n",
    "\n",
    "data = data.assign(\n",
    "    regional_mgal=regional.predict(coordinates),\n",
    ")\n",
    "data = data.assign(\n",
    "    residual_mgal=data.gravity_bouguer_mgal - data.regional_mgal,\n",
    ")\n",
    "data.head()"
   ]
  },
  {
   "cell_type": "code",
   "execution_count": null,
   "metadata": {
    "colab": {
     "base_uri": "https://localhost:8080/",
     "height": 418
    },
    "id": "rdNmjLXj2vag",
    "outputId": "3dcc1597-b4ef-4a59-d421-dbd107e0d40e"
   },
   "outputs": [],
   "source": [
    "fig = pygmt.Figure()\n",
    "maxabs = vd.maxabs(data.regional_mgal)\n",
    "pygmt.makecpt(cmap=\"polar+h\", series=[data.regional_mgal.min(), data.regional_mgal.max()])\n",
    "fig.plot(\n",
    "    x=data.Longitude,\n",
    "    y=data.Latitude,\n",
    "    color=data.regional_mgal,\n",
    "    cmap=True,\n",
    "    style=\"c5p\",\n",
    "    projection=\"M15c\",\n",
    "    frame=True,\n",
    ")\n",
    "fig.colorbar(frame='af+l\"Regional [mGal]\"')\n",
    "fig.plot(data=pluton, projection='M')\n",
    "fig.show()"
   ]
  },
  {
   "cell_type": "code",
   "execution_count": null,
   "metadata": {
    "colab": {
     "base_uri": "https://localhost:8080/",
     "height": 418
    },
    "id": "PlAJoVwS22Qg",
    "outputId": "215cf0e1-6a82-49cb-efa6-3df14708279b"
   },
   "outputs": [],
   "source": [
    "fig = pygmt.Figure()\n",
    "maxabs = vd.maxabs(data.residual_mgal)\n",
    "pygmt.makecpt(cmap=\"polar\", series=[-maxabs, maxabs])\n",
    "fig.plot(\n",
    "    x=data.Longitude,\n",
    "    y=data.Latitude,\n",
    "    color=data.residual_mgal,\n",
    "    cmap=True,\n",
    "    style=\"c5p\",\n",
    "    projection=\"M15c\",\n",
    "    frame=True,\n",
    ")\n",
    "fig.colorbar(frame='af+l\"Residual [mGal]\"')\n",
    "fig.plot(data=pluton, projection='M')\n",
    "fig.show()"
   ]
  },
  {
   "cell_type": "code",
   "execution_count": null,
   "metadata": {},
   "outputs": [],
   "source": [
    "with plt.rc_context(mpl_rc):\n",
    "    fig = pygmt.Figure()\n",
    "    # fig.subplot(nrows=1, ncols=3, figsize=(\"15c\", \"5c\"), frame=\"a\")\n",
    "    with fig.subplot(\n",
    "        nrows=1, ncols=3, figsize=(\"32c\", \"10c\"), autolabel=True, margins=\"-0.05c\"\n",
    "    ):\n",
    "        with fig.set_panel(panel=0):\n",
    "            maxabs = vd.maxabs(data.gravity_bouguer_mgal)\n",
    "            pygmt.makecpt(cmap=\"polar\", series=[data.gravity_bouguer_mgal.min(), data.gravity_bouguer_mgal.max()])\n",
    "            fig.plot(\n",
    "                x=data.Longitude,\n",
    "                y=data.Latitude,\n",
    "                color=data.gravity_bouguer_mgal,\n",
    "                cmap=True,\n",
    "                style=\"c5p\",\n",
    "                projection=\"X\",\n",
    "                frame=[\"WSne\", \"xaf\", \"yaf\"],\n",
    "            )\n",
    "            fig.colorbar(frame='af+l\"Bouguer disturbance [mGal]\"')\n",
    "            fig.plot(data=pluton, projection='M')\n",
    "            # fig.basemap(map_scale=\"n0.9/0.06+w5k+u\")\n",
    "    \n",
    "        with fig.set_panel(panel=1):\n",
    "            maxabs = vd.maxabs(data.regional_mgal)\n",
    "            pygmt.makecpt(cmap=\"polar\", series=[data.regional_mgal.min(), data.regional_mgal.max()])\n",
    "            fig.plot(\n",
    "                x=data.Longitude,\n",
    "                y=data.Latitude,\n",
    "                color=data.regional_mgal,\n",
    "                cmap=True,\n",
    "                style=\"c5p\",\n",
    "                projection=\"X\",\n",
    "                frame=[\"WSne\", \"xaf\", \"f\"],\n",
    "            )\n",
    "            fig.colorbar(frame='af+l\"Regional [mGal]\"')\n",
    "            fig.plot(data=pluton, projection='M')\n",
    "            # fig.basemap(map_scale=\"n0.9/0.06+w5k+u\")\n",
    "    \n",
    "        with fig.set_panel(panel=2):\n",
    "            maxabs = vd.maxabs(data.residual_mgal)\n",
    "            pygmt.makecpt(cmap=\"polar\", series=[-10, 10])\n",
    "            fig.plot(\n",
    "                x=data.Longitude,\n",
    "                y=data.Latitude,\n",
    "                color=data.residual_mgal,\n",
    "                cmap=True,\n",
    "                style=\"c5p\",\n",
    "                projection=\"X\",\n",
    "                frame=[\"WSne\", \"xaf\", \"f\"],\n",
    "            )\n",
    "            fig.colorbar(frame='af+l\"Residual [mGal]\"')\n",
    "            \n",
    "            fig.plot(data=pluton, projection='M')\n",
    "            # fig.basemap(map_scale=\"n0.9/0.06+w5k+u\")\n",
    "\n",
    "\n",
    "fig.savefig(image_dir/'gravity.png', dpi=300)\n",
    "fig.show()\n"
   ]
  },
  {
   "cell_type": "markdown",
   "metadata": {
    "id": "pmnOXoXu3LGc"
   },
   "source": [
    "## Interpolação com fontes equivalentes"
   ]
  },
  {
   "cell_type": "code",
   "execution_count": null,
   "metadata": {
    "colab": {
     "base_uri": "https://localhost:8080/",
     "height": 135
    },
    "id": "M7mujy7U29_O",
    "outputId": "eb161c0d-b133-4340-df62-99828b624e3a"
   },
   "outputs": [],
   "source": [
    "eqs = hm.EquivalentSources(damping=1.0, depth=5e3)\n",
    "eqs.fit((data.easting_m, data.northing_m, data.height_geometric_m), data.residual_mgal) # data.gravity_bouguer_mgal)"
   ]
  },
  {
   "cell_type": "code",
   "execution_count": null,
   "metadata": {},
   "outputs": [],
   "source": [
    "# Interpolar extra coord a partir da topografia\n",
    "region_pad_2 = vd.pad_region(region, pad=+0.1)\n",
    "grid_extra_coord = vd.grid_coordinates(region_pad_2, spacing= 2 / 3600)\n",
    "\n",
    "\n",
    "interpolator = vd.KNeighbors()\n",
    "topography_table = vd.grid_to_table(topography)\n",
    "interpolator.fit((topography_table.longitude, topography_table.latitude), topography_table.elevation)\n",
    "extra_coord=interpolator.predict((grid_extra_coord[0], grid_extra_coord[1]))\n",
    "\n",
    "# geoid_values = np.reshape(geoid_1.elevation, topography.shape)\n",
    "coordinates_grid = ([grid_extra_coord[0], grid_extra_coord[1], extra_coord])"
   ]
  },
  {
   "cell_type": "code",
   "execution_count": null,
   "metadata": {
    "colab": {
     "base_uri": "https://localhost:8080/",
     "height": 461
    },
    "id": "3aZTnVWR3esa",
    "outputId": "2fe369ab-cd7d-4fc5-8975-1194d3c0d479"
   },
   "outputs": [],
   "source": [
    "residual_grid = eqs.grid(\n",
    "    # coordinates=vd.grid_coordinates(region_pad_2, spacing=2 / 3600, extra_coords=1.0e3),\n",
    "    coordinates=coordinates_grid,\n",
    "    data_names=\"gravity_residual\",\n",
    "    dims=(\"latitude\", \"longitude\"),\n",
    "    projection=projection,\n",
    ")\n",
    "residual_grid"
   ]
  },
  {
   "cell_type": "code",
   "execution_count": null,
   "metadata": {
    "colab": {
     "base_uri": "https://localhost:8080/",
     "height": 418
    },
    "id": "-hiuEyCY4uqb",
    "outputId": "a1c6686e-3c31-415d-aabc-6945a32d97bc"
   },
   "outputs": [],
   "source": [
    "fig = pygmt.Figure()\n",
    "# scale_max = data.gravity_bouguer_mgal.values.max()#vd.maxabs(residual_grid.gravity_residual)\n",
    "# scale_min = data.gravity_bouguer_mgal.values.min()\n",
    "scale_max = data.residual_mgal.values.max()#vd.maxabs(residual_grid.gravity_residual)\n",
    "scale_min = data.residual_mgal.values.min()\n",
    "pygmt.makecpt(cmap=\"polar\", series=[scale_min, scale_max], no_bg=True)\n",
    "fig.grdimage(\n",
    "    residual_grid.gravity_residual,\n",
    "    # shading=\"+a45+nt0.15\",\n",
    "    projection=\"M15c\",\n",
    "    frame=True,\n",
    "    region=vd.pad_region(region, pad=-0.15)\n",
    ")\n",
    "fig.colorbar(frame='af+l\"residual field [mGal]\"')\n",
    "fig.plot(\n",
    "    x=data.Longitude,\n",
    "    y=data.Latitude,\n",
    "    style=\"c0.15c\",\n",
    "    color=\"black\",\n",
    ")\n",
    "fig.plot(data=pluton, projection='M')\n",
    "fig.show()"
   ]
  },
  {
   "cell_type": "code",
   "execution_count": null,
   "metadata": {},
   "outputs": [],
   "source": [
    "### Validação cruzada entre dados de grav residual e camada equivalente\n",
    "r2_score = np.mean(\n",
    "    vd.cross_val_score(\n",
    "        eqs,\n",
    "        coordinates,\n",
    "        data.residual_mgal,\n",
    "    )\n",
    ")\n",
    "print(f'O R² do modelo de camada equivalente para os dados é de: {r2_score:.3f}')\n",
    "\n",
    "### Validação cruzada entre dados de grav residual e camada equivalente\n",
    "# r2_score = np.mean(\n",
    "#     vd.cross_val_score(\n",
    "#         eqs,\n",
    "#         coordinates,\n",
    "#         data.gravity_bouguer_mgal,\n",
    "#     )\n",
    "# )\n",
    "# print(f'O R² do modelo de camada equivalente para os dados é de: {r2_score:.3f}')"
   ]
  },
  {
   "cell_type": "code",
   "execution_count": null,
   "metadata": {},
   "outputs": [],
   "source": []
  },
  {
   "cell_type": "markdown",
   "metadata": {
    "id": "QA8bcyL_5VW2"
   },
   "source": [
    "## image\n",
    "<!-- ![](https://www.fatiando.org/tutorials/_images/bushveld_igneous_complex_geology.jpg) -->"
   ]
  },
  {
   "cell_type": "markdown",
   "metadata": {},
   "source": [
    "# Calculate derivatives and gradients (new)"
   ]
  },
  {
   "cell_type": "markdown",
   "metadata": {},
   "source": [
    "## Calculate derivatives"
   ]
  },
  {
   "cell_type": "code",
   "execution_count": null,
   "metadata": {},
   "outputs": [],
   "source": [
    "# grid_coords = vd.grid_coordinates(region, spacing=2 / 60, extra_coords=2.3e3)\n",
    "g_east, g_north = projection(*coordinates_grid[:2])\n",
    "g_up = coordinates_grid[2]\n",
    "\n",
    "delta = 10\n",
    "deast = (\n",
    "      eqs.predict((g_east + delta, g_north, g_up))\n",
    "    - eqs.predict((g_east - delta, g_north, g_up))\n",
    ") / (2 * delta)\n",
    "\n",
    "dnorth = (\n",
    "      eqs.predict((g_east, g_north + delta, g_up))\n",
    "    - eqs.predict((g_east, g_north - delta, g_up))\n",
    ") / (2 * delta)\n",
    "\n",
    "\n",
    "\n",
    "delta = 5\n",
    "dup = (\n",
    "      eqs.predict((g_east, g_north, g_up + delta))\n",
    "    - eqs.predict((g_east, g_north, g_up - delta))\n",
    ") / (2 * delta)\n",
    "\n",
    "\n",
    "derivatives = vd.make_xarray_grid(coordinates_grid, (deast, dnorth, -dup), \n",
    "                                  data_names=[\"derivative_easting\", \"derivative_northing\", \"derivative_upward\"],\n",
    "                                  extra_coords_names=\"upward\")\n",
    "\n",
    "derivatives.derivative_easting.attrs = {\"units\": \"mGal/m\"}\n",
    "derivatives.derivative_northing.attrs = {\"units\": \"mGal/m\"}\n",
    "derivatives.derivative_upward.attrs = {\"units\": \"mGal/m\"}\n"
   ]
  },
  {
   "cell_type": "markdown",
   "metadata": {},
   "source": [
    "## Calculate total and horizontal gradients"
   ]
  },
  {
   "cell_type": "code",
   "execution_count": null,
   "metadata": {},
   "outputs": [],
   "source": [
    "derivatives = derivatives.assign(TG=np.sqrt(derivatives.derivative_easting**2  +\n",
    "                                            derivatives.derivative_northing**2 +\n",
    "                                            derivatives.derivative_upward**2\n",
    "                                               ))\n",
    "\n",
    "derivatives = derivatives.assign(HG=np.sqrt(derivatives.derivative_easting**2  +\n",
    "                                            derivatives.derivative_northing**2\n",
    "                                               ))\n",
    "\n",
    "derivatives.HG.attrs = {\"units\": \"mGal/m\"}\n",
    "derivatives.TG.attrs = {\"units\": \"mGal/m\"}"
   ]
  },
  {
   "cell_type": "code",
   "execution_count": null,
   "metadata": {},
   "outputs": [],
   "source": [
    "derivatives"
   ]
  },
  {
   "cell_type": "code",
   "execution_count": null,
   "metadata": {},
   "outputs": [],
   "source": [
    "fig = pygmt.Figure()\n",
    "# fig.subplot(nrows=1, ncols=3, figsize=(\"15c\", \"5c\"), frame=\"a\")\n",
    "with fig.subplot(\n",
    "    nrows=1, ncols=3, figsize=(\"32c\", \"10c\"), autolabel=True, margins=\"0.01c\"\n",
    "):\n",
    "    with fig.set_panel(panel=0):\n",
    "        fig.grdimage(derivatives.derivative_easting, projection=\"M\", cmap=\"polar\", frame=[\"WSne\", \"xaf\", \"yaf\"],\n",
    "                    region= region_pad_2)# frame=[\"WSne\", \"xafg+lx-axis\", \"yafg+ly-axis\"])\n",
    "        fig.colorbar(frame='af+l\"easting derivative [mGal/m]\"')\n",
    "\n",
    "    with fig.set_panel(panel=1):\n",
    "        fig.grdimage(derivatives.derivative_northing, projection=\"M\", cmap=\"polar\", frame=[\"WSne\", \"xaf+lx-axis\", \"f+ly-axis\"],\n",
    "                    region= region_pad_2)\n",
    "        fig.colorbar(frame='af+l\"northing derivative [mGal/m]\"')\n",
    "\n",
    "    with fig.set_panel(panel=2):\n",
    "        fig.grdimage(derivatives.derivative_upward, projection=\"M\", cmap=\"polar\", frame=[\"WSne\", \"xaf+lx-axis\", \"f+ly-axis\"],\n",
    "                    region= region_pad_2)\n",
    "        fig.colorbar(frame='af+l\"upward derivative [mGal/m]\"')\n",
    "\n",
    "# fig.savefig('teste.png', dpi=300)\n",
    "fig.show()\n"
   ]
  },
  {
   "cell_type": "code",
   "execution_count": null,
   "metadata": {},
   "outputs": [],
   "source": [
    "fig = pygmt.Figure()\n",
    "# fig.subplot(nrows=1, ncols=3, figsize=(\"15c\", \"5c\"), frame=\"a\")\n",
    "with fig.subplot(\n",
    "    nrows=1, ncols=2, figsize=(\"22c\", \"10c\"), autolabel=True, margins=\"0.01c\"\n",
    "):\n",
    "    with fig.set_panel(panel=0):\n",
    "        fig.grdimage(derivatives.HG, projection=\"M\", cmap=\"polar+h\", frame=[\"WSne\", \"xaf\", \"yaf\"],\n",
    "                    region= region_pad_2)# frame=[\"WSne\", \"xafg+lx-axis\", \"yafg+ly-axis\"])\n",
    "        fig.colorbar(frame='af+l\"horizontal gradient [mGal/m]\"')\n",
    "\n",
    "    with fig.set_panel(panel=1):\n",
    "        fig.grdimage(derivatives.TG, projection=\"M\", cmap=\"polar+h\", frame=[\"WSne\", \"xaf+lx-axis\", \"f+ly-axis\"],\n",
    "                    region= region_pad_2)\n",
    "        fig.colorbar(frame='af+l\"vertical gradient [mGal/m]\"')\n",
    "\n",
    "fig.show()"
   ]
  },
  {
   "cell_type": "markdown",
   "metadata": {},
   "source": [
    "## Report's plot"
   ]
  },
  {
   "cell_type": "code",
   "execution_count": null,
   "metadata": {},
   "outputs": [],
   "source": [
    "with plt.rc_context(mpl_rc):\n",
    "\n",
    "    fig = pygmt.Figure()\n",
    "    with fig.subplot(\n",
    "        nrows=1, ncols=3, figsize=(\"32c\", \"10c\"), autolabel=True, margins=\"-0.1c/0.99c\"\n",
    "    ):\n",
    "        \n",
    "        with fig.set_panel(panel=0):\n",
    "            scale = vd.maxabs(residual_grid.gravity_residual)\n",
    "            pygmt.makecpt(cmap=\"polar\", series=[-10, 10], no_bg=True)\n",
    "            fig.grdimage(\n",
    "                residual_grid.gravity_residual,\n",
    "                # shading=\"+a45+nt0.15\",\n",
    "                projection=\"X\",\n",
    "                frame=[\"WSne\", \"xaf2.5\", \"yaf2.5\"],\n",
    "                region=region_pad_2\n",
    "            )\n",
    "            fig.colorbar(frame='af+l\"residual field [mGal]\"')\n",
    "            # fig.plot(data=GranitoFoliado, projection='M')\n",
    "            # fig.plot(data=Mistura, projection='M')\n",
    "            # fig.plot(data=Nucleo1, projection='M')\n",
    "            # fig.plot(data=Nocleo2, projection='M')\n",
    "            # fig.basemap(map_scale=\"n0.9/0.06+w5k+u\")\n",
    "        \n",
    "\n",
    "        with fig.set_panel(panel=1):\n",
    "            fig.grdimage(derivatives.HG, projection=\"X\", cmap=\"polar+h\", frame=[\"WSne\", \"xaf2.5\", \"yf2.5\"],\n",
    "                        region= region_pad_2)# frame=[\"WSne\", \"xafg+lx-axis\", \"yafg+ly-axis\"])\n",
    "            fig.colorbar(frame='af+l\"horizontal gradient [mGal/m]\"')\n",
    "            # fig.plot(data=GranitoFoliado, projection='M')\n",
    "            # fig.plot(data=Mistura, projection='M')\n",
    "            # fig.plot(data=Nucleo1, projection='M')\n",
    "            # fig.plot(data=Nocleo2, projection='M')\n",
    "            # fig.basemap(map_scale=\"n0.9/0.06+w5k+u\")\n",
    "    \n",
    "        with fig.set_panel(panel=2):\n",
    "            fig.grdimage(derivatives.TG, projection=\"X\", cmap=\"polar+h\", frame=[\"WSne\", \"xaf2.5\", \"f2.5\"],\n",
    "                        region= region_pad_2)\n",
    "            fig.colorbar(frame='af+l\"vertical gradient [mGal/m]\"')\n",
    "            # fig.plot(data=GranitoFoliado, projection='M', label='geology boundaries')\n",
    "            # fig.plot(data=Mistura, projection='M')\n",
    "            # fig.plot(data=Nucleo1, projection='M')\n",
    "            # fig.plot(data=Nocleo2, projection='M')\n",
    "            # fig.legend(box=False, position=\"JTR+jTR+o0.2c\")\n",
    "            # fig.basemap(map_scale=\"n0.9/0.06+w5k+u\")\n",
    "\n",
    "fig.savefig(image_dir/'painel_final.png', dpi=300)\n",
    "fig.show()"
   ]
  },
  {
   "cell_type": "code",
   "execution_count": null,
   "metadata": {},
   "outputs": [],
   "source": [
    "# with plt.rc_context(mpl_rc):\n",
    "\n",
    "#     fig = pygmt.Figure()\n",
    "#     with fig.subplot(\n",
    "#         nrows=2, ncols=3, figsize=(\"32c\", \"20c\"), autolabel=True, margins=\"-0.1c/0.99c\"\n",
    "#     ):\n",
    "        \n",
    "#         with fig.set_panel(panel=0):\n",
    "#             scale = vd.maxabs(residual_grid.gravity_residual)\n",
    "#             pygmt.makecpt(cmap=\"polar\", series=[-10, 10], no_bg=True)\n",
    "#             fig.grdimage(\n",
    "#                 residual_grid.gravity_residual,\n",
    "#                 # shading=\"+a45+nt0.15\",\n",
    "#                 projection=\"X\",\n",
    "#                 frame=[\"WSne\", \"xf2.5\", \"yaf2.5\"],\n",
    "#                 region=region_pad_2\n",
    "#             )\n",
    "#             fig.colorbar(frame='af+l\"residual field [mGal]\"')\n",
    "#             fig.plot(data=GranitoFoliado, projection='M')\n",
    "#             fig.plot(data=Mistura, projection='M')\n",
    "#             fig.plot(data=Nucleo1, projection='M')\n",
    "#             fig.plot(data=Nocleo2, projection='M')\n",
    "#             fig.basemap(map_scale=\"n0.9/0.06+w5k+u\")\n",
    "        \n",
    "#         with fig.set_panel(panel=1):\n",
    "#             fig.grdimage(derivatives.derivative_easting, projection=\"X\", cmap=\"polar\", frame=[\"WSne\", \"xf2.5\", \"yf2.5\"],\n",
    "#                         region= region_pad_2)# frame=[\"WSne\", \"xafg+lx-axis\", \"yafg+ly-axis\"])\n",
    "#             fig.colorbar(frame='af+l\"easting derivative [mGal/m]\"')\n",
    "#             # fig.text(text='b)', position='TL',  font=16)\n",
    "#             fig.plot(data=GranitoFoliado, projection='M')\n",
    "#             fig.plot(data=Mistura, projection='M')\n",
    "#             fig.plot(data=Nucleo1, projection='M')\n",
    "#             fig.plot(data=Nocleo2, projection='M')\n",
    "#             fig.basemap(map_scale=\"n0.9/0.06+w5k+u\")\n",
    "        \n",
    "    \n",
    "#         with fig.set_panel(panel=2):\n",
    "#             fig.grdimage(derivatives.derivative_northing, projection=\"X\", cmap=\"polar\", frame=[\"WSne\", \"xf2.5\", \"f2.5\"],\n",
    "#                         region= region_pad_2)\n",
    "#             fig.colorbar(frame='af+l\"northing derivative [mGal/m]\"')\n",
    "#             fig.plot(data=GranitoFoliado, projection='M')\n",
    "#             fig.plot(data=Mistura, projection='M')\n",
    "#             fig.plot(data=Nucleo1, projection='M')\n",
    "#             fig.plot(data=Nocleo2, projection='M')\n",
    "#             fig.basemap(map_scale=\"n0.9/0.06+w5k+u\")\n",
    "\n",
    "        \n",
    "#         with fig.set_panel(panel=3):\n",
    "#             fig.grdimage(derivatives.derivative_upward, projection=\"X\", cmap=\"polar\",  frame=[\"WSne\", \"xaf2.5\", \"yaf2.5\"],\n",
    "#                         region= region_pad_2)\n",
    "#             fig.colorbar(frame='af+l\"upward derivative [mGal/m]\"')\n",
    "#             fig.plot(data=GranitoFoliado, projection='M')\n",
    "#             fig.plot(data=Mistura, projection='M')\n",
    "#             fig.plot(data=Nucleo1, projection='M')\n",
    "#             fig.plot(data=Nocleo2, projection='M')\n",
    "#             fig.basemap(map_scale=\"n0.9/0.06+w5k+u\")\n",
    "\n",
    "#         with fig.set_panel(panel=4):\n",
    "#             fig.grdimage(derivatives.HG, projection=\"X\", cmap=\"polar+h\", frame=[\"WSne\", \"xaf2.5\", \"yf2.5\"],\n",
    "#                         region= region_pad_2)# frame=[\"WSne\", \"xafg+lx-axis\", \"yafg+ly-axis\"])\n",
    "#             fig.colorbar(frame='af+l\"horizontal gradient [mGal/m]\"')\n",
    "#             fig.plot(data=GranitoFoliado, projection='M')\n",
    "#             fig.plot(data=Mistura, projection='M')\n",
    "#             fig.plot(data=Nucleo1, projection='M')\n",
    "#             fig.plot(data=Nocleo2, projection='M')\n",
    "#             fig.basemap(map_scale=\"n0.9/0.06+w5k+u\")\n",
    "    \n",
    "#         with fig.set_panel(panel=5):\n",
    "#             fig.grdimage(derivatives.TG, projection=\"X\", cmap=\"polar+h\", frame=[\"WSne\", \"xaf2.5\", \"f2.5\"],\n",
    "#                         region= region_pad_2)\n",
    "#             fig.colorbar(frame='af+l\"vertical gradient [mGal/m]\"')\n",
    "#             fig.plot(data=GranitoFoliado, projection='M', label='geology boundaries')\n",
    "#             fig.plot(data=Mistura, projection='M')\n",
    "#             fig.plot(data=Nucleo1, projection='M')\n",
    "#             fig.plot(data=Nocleo2, projection='M')\n",
    "#             fig.legend(box=False, position=\"JTR+jTR+o0.2c\")\n",
    "#             fig.basemap(map_scale=\"n0.9/0.06+w5k+u\")\n",
    "\n",
    "# # fig.savefig(image_dir/'painel_final.png', dpi=300)\n",
    "# fig.show()"
   ]
  },
  {
   "cell_type": "code",
   "execution_count": null,
   "metadata": {},
   "outputs": [],
   "source": []
  },
  {
   "cell_type": "code",
   "execution_count": null,
   "metadata": {},
   "outputs": [],
   "source": []
  }
 ],
 "metadata": {
  "colab": {
   "provenance": []
  },
  "kernelspec": {
   "display_name": "Python 3 (ipykernel)",
   "language": "python",
   "name": "python3"
  },
  "language_info": {
   "codemirror_mode": {
    "name": "ipython",
    "version": 3
   },
   "file_extension": ".py",
   "mimetype": "text/x-python",
   "name": "python",
   "nbconvert_exporter": "python",
   "pygments_lexer": "ipython3",
   "version": "3.10.13"
  }
 },
 "nbformat": 4,
 "nbformat_minor": 4
}
